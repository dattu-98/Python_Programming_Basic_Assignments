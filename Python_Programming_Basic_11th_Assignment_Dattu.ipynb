{
 "cells": [
  {
   "cell_type": "markdown",
   "metadata": {},
   "source": [
    "1) Write a Python program to find words which are greater than given length k?\n"
   ]
  },
  {
   "cell_type": "code",
   "execution_count": 1,
   "metadata": {},
   "outputs": [],
   "source": [
    "def word_len():\n",
    "    data=input(\"Enter the sentence: \")\n",
    "    words=data.split(\" \")\n",
    "    word_len=int(input(\"Enter the length of the words you need\"))\n",
    "    final_words=[]\n",
    "    for word in words:\n",
    "        if len(word)>word_len:\n",
    "            print(word)"
   ]
  },
  {
   "cell_type": "code",
   "execution_count": 2,
   "metadata": {},
   "outputs": [
    {
     "name": "stdout",
     "output_type": "stream",
     "text": [
      "Enter the sentence: Hi there! This is Dattatreya. I am doing my M.Tech from MNIT Jaipur\n",
      "Enter the length of the words you need3\n",
      "there!\n",
      "This\n",
      "Dattatreya.\n",
      "doing\n",
      "M.Tech\n",
      "from\n",
      "MNIT\n",
      "Jaipur\n"
     ]
    }
   ],
   "source": [
    "word_len()"
   ]
  },
  {
   "cell_type": "markdown",
   "metadata": {},
   "source": [
    "2) Write a Python program for removing i-th character from a string?\n"
   ]
  },
  {
   "cell_type": "code",
   "execution_count": 3,
   "metadata": {},
   "outputs": [],
   "source": [
    "def remove():\n",
    "    sentence=\"What's up buddy, How is it going!!!\"\n",
    "    ith=int(input(\"Enter the ith position\"))\n",
    "    for char_index in range(len(sentence)):\n",
    "        if ith==char_index:\n",
    "            sentence=sentence.replace(sentence[char_index],\"\",1)\n",
    "    return sentence"
   ]
  },
  {
   "cell_type": "code",
   "execution_count": 4,
   "metadata": {},
   "outputs": [
    {
     "name": "stdout",
     "output_type": "stream",
     "text": [
      "Enter the ith position4\n"
     ]
    },
    {
     "data": {
      "text/plain": [
       "'Whats up buddy, How is it going!!!'"
      ]
     },
     "execution_count": 4,
     "metadata": {},
     "output_type": "execute_result"
    }
   ],
   "source": [
    "remove()"
   ]
  },
  {
   "cell_type": "markdown",
   "metadata": {},
   "source": [
    "3) Write a Python program to split and join a string?\n"
   ]
  },
  {
   "cell_type": "code",
   "execution_count": 5,
   "metadata": {},
   "outputs": [
    {
     "name": "stdout",
     "output_type": "stream",
     "text": [
      "['FULL', 'STACK', 'DATA', 'SCIENCE']\n",
      "F*U*L*L* *S*T*A*C*K* *D*A*T*A* *S*C*I*E*N*C*E\n"
     ]
    }
   ],
   "source": [
    "def split_str(sentence):\n",
    "    spl_str=sentence.split(' ')\n",
    "    return spl_str\n",
    "def join_str(spl_str):\n",
    "    join_str='*'.join(spl_str)\n",
    "    return join_str\n",
    "if __name__=='__main__':\n",
    "    sentence=\"FULL STACK DATA SCIENCE\"\n",
    "    str_split=split_str(sentence)\n",
    "    print(str_split)\n",
    "    join_words=join_str(sentence)\n",
    "    print(join_words)"
   ]
  },
  {
   "cell_type": "markdown",
   "metadata": {},
   "source": [
    "4) Write a Python program to check if a given string is binary string or not?\n"
   ]
  },
  {
   "cell_type": "code",
   "execution_count": 6,
   "metadata": {},
   "outputs": [],
   "source": [
    "def check_binary():    \n",
    "    inp=set(input(\"Enter the value: \"))\n",
    "    binary={'0','1'}\n",
    "    if binary==inp or inp=={'0'} or inp=={'1'}:\n",
    "        print(\"True\")\n",
    "    else:\n",
    "        print(\"False\")"
   ]
  },
  {
   "cell_type": "code",
   "execution_count": 7,
   "metadata": {},
   "outputs": [
    {
     "name": "stdout",
     "output_type": "stream",
     "text": [
      "Enter the value: 11001101010\n",
      "True\n"
     ]
    }
   ],
   "source": [
    "check_binary()"
   ]
  },
  {
   "cell_type": "markdown",
   "metadata": {},
   "source": [
    "5) Write a Python program to find uncommon words from two Strings?\n"
   ]
  },
  {
   "cell_type": "code",
   "execution_count": 10,
   "metadata": {},
   "outputs": [],
   "source": [
    "def str_check():\n",
    "    x=str(input(\"Enter the 1st sentence: \"))\n",
    "    y=str(input(\"Enter the 2nd sentence: \"))\n",
    "    spl_x=x.split(\" \")\n",
    "    spl_y=y.split(\" \")\n",
    "    uncommon=[]\n",
    "    for word in spl_x:\n",
    "        if word in spl_y:\n",
    "            pass\n",
    "        else:\n",
    "            uncommon.append(word)\n",
    "    for words in spl_y:\n",
    "        if words in spl_x:\n",
    "            pass\n",
    "        else:\n",
    "            uncommon.append(words)\n",
    "    print(uncommon)"
   ]
  },
  {
   "cell_type": "code",
   "execution_count": 11,
   "metadata": {},
   "outputs": [
    {
     "name": "stdout",
     "output_type": "stream",
     "text": [
      "Enter the 1st sentence: 66 Dattu NIT Jaipur\n",
      "Enter the 2nd sentence: Dattu FSDS ASUS\n",
      "['66', 'NIT', 'Jaipur', 'FSDS', 'ASUS']\n"
     ]
    }
   ],
   "source": [
    "str_check()"
   ]
  },
  {
   "cell_type": "markdown",
   "metadata": {},
   "source": [
    "6) Write a Python program to find all duplicate characters in string?\n"
   ]
  },
  {
   "cell_type": "code",
   "execution_count": 18,
   "metadata": {},
   "outputs": [],
   "source": [
    "def duplicates():\n",
    "    string=\"Full Stack Data Science\"\n",
    "    repeated={}\n",
    "    for char in string:\n",
    "        if char in repeated:\n",
    "            repeated[char]+=1\n",
    "        else:\n",
    "            repeated[char]=1\n",
    "    for x in repeated:\n",
    "        if repeated[x]>1:\n",
    "            print (x,end=\" \")"
   ]
  },
  {
   "cell_type": "code",
   "execution_count": 19,
   "metadata": {},
   "outputs": [
    {
     "name": "stdout",
     "output_type": "stream",
     "text": [
      "l   S t a c e "
     ]
    }
   ],
   "source": [
    "duplicates()"
   ]
  },
  {
   "cell_type": "markdown",
   "metadata": {},
   "source": [
    "7) Write a Python Program to check if a string contains any special character?\n"
   ]
  },
  {
   "cell_type": "code",
   "execution_count": 21,
   "metadata": {},
   "outputs": [],
   "source": [
    "import re\n",
    "def str_spe_char(sen):\n",
    "    reg=re.compile('[@_!#$%^&*()<>?/\\|}{~:]')\n",
    "    if(reg.search(sen)==None):\n",
    "        print(\"No Special Characters are there. String is accepted\")\n",
    "    else:\n",
    "        print(\"There are some special characters\")"
   ]
  },
  {
   "cell_type": "code",
   "execution_count": 22,
   "metadata": {},
   "outputs": [
    {
     "name": "stdout",
     "output_type": "stream",
     "text": [
      "There are some special characters\n"
     ]
    }
   ],
   "source": [
    "str_spe_char(\"Full $tack Data $cience\")"
   ]
  },
  {
   "cell_type": "code",
   "execution_count": null,
   "metadata": {},
   "outputs": [],
   "source": []
  }
 ],
 "metadata": {
  "kernelspec": {
   "display_name": "Python 3",
   "language": "python",
   "name": "python3"
  },
  "language_info": {
   "codemirror_mode": {
    "name": "ipython",
    "version": 3
   },
   "file_extension": ".py",
   "mimetype": "text/x-python",
   "name": "python",
   "nbconvert_exporter": "python",
   "pygments_lexer": "ipython3",
   "version": "3.8.3"
  }
 },
 "nbformat": 4,
 "nbformat_minor": 4
}
