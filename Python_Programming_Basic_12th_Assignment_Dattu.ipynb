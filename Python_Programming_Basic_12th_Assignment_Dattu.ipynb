{
 "cells": [
  {
   "cell_type": "markdown",
   "metadata": {},
   "source": [
    "1) Write a Python program to Extract Unique values dictionary values?"
   ]
  },
  {
   "cell_type": "code",
   "execution_count": 1,
   "metadata": {},
   "outputs": [],
   "source": [
    "dic={\n",
    "    \"Dattu\":['TCPS','Narayana','KITS','NIT Jaipur'],\n",
    "    \"Jithu\":['TCPS','Narayana','RVR','NIT Hamirpur']\n",
    "}\n",
    "def uniquee_values(dic={}):\n",
    "    from itertools import chain\n",
    "    unique_values=list(sorted(set(chain(*dic.values()))))\n",
    "    print(unique_values)"
   ]
  },
  {
   "cell_type": "code",
   "execution_count": 2,
   "metadata": {},
   "outputs": [
    {
     "name": "stdout",
     "output_type": "stream",
     "text": [
      "['KITS', 'NIT Hamirpur', 'NIT Jaipur', 'Narayana', 'RVR', 'TCPS']\n"
     ]
    }
   ],
   "source": [
    "uniquee_values(dic)"
   ]
  },
  {
   "cell_type": "markdown",
   "metadata": {},
   "source": [
    "2) Write a Python program to find the sum of all items in a dictionary?"
   ]
  },
  {
   "cell_type": "code",
   "execution_count": 6,
   "metadata": {},
   "outputs": [],
   "source": [
    "marks={\n",
    "    'A':[70,80,75,85,85,75],\n",
    "    'B':[75,77,86,90,85,77]\n",
    "}\n",
    "def sum_dic(data):    \n",
    "    for person in marks:\n",
    "        print(person+' has got: '+str(sum(marks.get(person)))) "
   ]
  },
  {
   "cell_type": "code",
   "execution_count": 7,
   "metadata": {},
   "outputs": [
    {
     "name": "stdout",
     "output_type": "stream",
     "text": [
      "A has got: 470\n",
      "B has got: 490\n"
     ]
    }
   ],
   "source": [
    "sum_dic(marks)"
   ]
  },
  {
   "cell_type": "markdown",
   "metadata": {},
   "source": [
    "3) Write a Python program to Merging two Dictionaries?"
   ]
  },
  {
   "cell_type": "code",
   "execution_count": 8,
   "metadata": {},
   "outputs": [
    {
     "name": "stdout",
     "output_type": "stream",
     "text": [
      "{'A': [70, 80, 75, 85, 85, 75], 'B': [75, 77, 86, 90, 85, 77], 'Dattu': ['TCPS', 'Narayana', 'KITS', 'NIT Jaipur'], 'Jithu': ['TCPS', 'Narayana', 'RVR', 'NIT Hamirpur']}\n"
     ]
    }
   ],
   "source": [
    "merged_dic={**marks,**dic}\n",
    "print(merged_dic)"
   ]
  },
  {
   "cell_type": "code",
   "execution_count": 9,
   "metadata": {},
   "outputs": [],
   "source": [
    "new={\n",
    "    'C':[68,75,85,90,95,90]\n",
    "}"
   ]
  },
  {
   "cell_type": "code",
   "execution_count": 10,
   "metadata": {},
   "outputs": [],
   "source": [
    "merged_dic.update(new)"
   ]
  },
  {
   "cell_type": "code",
   "execution_count": 11,
   "metadata": {},
   "outputs": [
    {
     "name": "stdout",
     "output_type": "stream",
     "text": [
      "{'A': [70, 80, 75, 85, 85, 75], 'B': [75, 77, 86, 90, 85, 77], 'Dattu': ['TCPS', 'Narayana', 'KITS', 'NIT Jaipur'], 'Jithu': ['TCPS', 'Narayana', 'RVR', 'NIT Hamirpur'], 'C': [68, 75, 85, 90, 95, 90]}\n"
     ]
    }
   ],
   "source": [
    "print(merged_dic)"
   ]
  },
  {
   "cell_type": "markdown",
   "metadata": {},
   "source": [
    "4) Write a Python program to convert key-values list to flat dictionary?"
   ]
  },
  {
   "cell_type": "code",
   "execution_count": 12,
   "metadata": {},
   "outputs": [],
   "source": [
    "lst = ['a','2', 'b', 'B', 'c', 'C']\n",
    "con_dic={\n",
    "    lst[i]: lst[i+1] for i in range(0,len(lst),2)\n",
    "}"
   ]
  },
  {
   "cell_type": "code",
   "execution_count": 13,
   "metadata": {},
   "outputs": [
    {
     "data": {
      "text/plain": [
       "{'a': '2', 'b': 'B', 'c': 'C'}"
      ]
     },
     "execution_count": 13,
     "metadata": {},
     "output_type": "execute_result"
    }
   ],
   "source": [
    "con_dic"
   ]
  },
  {
   "cell_type": "markdown",
   "metadata": {},
   "source": [
    "5) Write a Python program to insertion at the beginning in OrderedDict?\n"
   ]
  },
  {
   "cell_type": "code",
   "execution_count": 14,
   "metadata": {},
   "outputs": [],
   "source": [
    "from collections import OrderedDict"
   ]
  },
  {
   "cell_type": "code",
   "execution_count": 15,
   "metadata": {},
   "outputs": [],
   "source": [
    "list1=OrderedDict([('Dattu','Guntur'),('Yash','Jaipur'),('Vishal','Kanpur')])"
   ]
  },
  {
   "cell_type": "code",
   "execution_count": 17,
   "metadata": {},
   "outputs": [
    {
     "name": "stdout",
     "output_type": "stream",
     "text": [
      "OrderedDict([('Karthik', 'Hamirpur'), ('Dattu', 'Guntur'), ('Yash', 'Jaipur'), ('Vishal', 'Kanpur')])\n"
     ]
    }
   ],
   "source": [
    "list1.update({'Karthik':'Hamirpur'})\n",
    "list1.move_to_end('Karthik',last=False)\n",
    "print(str(list1))"
   ]
  },
  {
   "cell_type": "markdown",
   "metadata": {},
   "source": [
    "6) Write a Python program to check order of character in string using OrderedDict()?"
   ]
  },
  {
   "cell_type": "code",
   "execution_count": 18,
   "metadata": {},
   "outputs": [],
   "source": [
    "word=\"Dattatreya\"\n",
    "pattern=\"Dta\"\n",
    "def string_check(word,pattern):\n",
    "    dic=OrderedDict.fromkeys(word)\n",
    "    ptrnlen=0\n",
    "    for key in dic:\n",
    "        #print(key)\n",
    "        if(key==pattern[ptrnlen]):\n",
    "            ptrnlen+=1\n",
    "            #print(\"{}{}\".format(key,ptrnlen))\n",
    "        if(ptrnlen==len(pattern)):\n",
    "            return True\n",
    "    return False"
   ]
  },
  {
   "cell_type": "code",
   "execution_count": 19,
   "metadata": {},
   "outputs": [
    {
     "data": {
      "text/plain": [
       "False"
      ]
     },
     "execution_count": 19,
     "metadata": {},
     "output_type": "execute_result"
    }
   ],
   "source": [
    "string_check(word,pattern)"
   ]
  },
  {
   "cell_type": "markdown",
   "metadata": {},
   "source": [
    "7) Write a Python program to sort Python Dictionaries by Key or Value?\n"
   ]
  },
  {
   "cell_type": "code",
   "execution_count": 20,
   "metadata": {},
   "outputs": [],
   "source": [
    "dic={\n",
    "    \"Dattu\":['TCPS','Narayana','KITS','NIT Jaipur'],\n",
    "    \"Jithu\":['TCPS','Narayana','RVR','NIT Hamirpur'],\n",
    "    \"Rohith\":['Loyola','Matrix','KLU','TCS']\n",
    "}\n",
    "class sort_dic:\n",
    "    def sort_key(data):\n",
    "        #sorting of keys\n",
    "        sortedd_keys=sorted(dic.keys())\n",
    "        return sortedd_keys\n",
    "    def sort_values(data):\n",
    "        #sorting of values\n",
    "        sortedd_values=sorted(dic.values())\n",
    "        return sortedd_values"
   ]
  },
  {
   "cell_type": "code",
   "execution_count": 22,
   "metadata": {},
   "outputs": [
    {
     "data": {
      "text/plain": [
       "['Dattu', 'Jithu', 'Rohith']"
      ]
     },
     "execution_count": 22,
     "metadata": {},
     "output_type": "execute_result"
    }
   ],
   "source": [
    "sort_dic.sort_key(dic)"
   ]
  },
  {
   "cell_type": "code",
   "execution_count": 23,
   "metadata": {},
   "outputs": [
    {
     "data": {
      "text/plain": [
       "[['Loyola', 'Matrix', 'KLU', 'TCS'],\n",
       " ['TCPS', 'Narayana', 'KITS', 'NIT Jaipur'],\n",
       " ['TCPS', 'Narayana', 'RVR', 'NIT Hamirpur']]"
      ]
     },
     "execution_count": 23,
     "metadata": {},
     "output_type": "execute_result"
    }
   ],
   "source": [
    "sort_dic.sort_values(dic)"
   ]
  },
  {
   "cell_type": "code",
   "execution_count": null,
   "metadata": {},
   "outputs": [],
   "source": []
  }
 ],
 "metadata": {
  "kernelspec": {
   "display_name": "Python 3",
   "language": "python",
   "name": "python3"
  },
  "language_info": {
   "codemirror_mode": {
    "name": "ipython",
    "version": 3
   },
   "file_extension": ".py",
   "mimetype": "text/x-python",
   "name": "python",
   "nbconvert_exporter": "python",
   "pygments_lexer": "ipython3",
   "version": "3.8.3"
  }
 },
 "nbformat": 4,
 "nbformat_minor": 4
}
