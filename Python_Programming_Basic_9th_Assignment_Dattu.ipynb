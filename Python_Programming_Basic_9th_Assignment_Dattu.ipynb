{
 "cells": [
  {
   "cell_type": "markdown",
   "metadata": {},
   "source": [
    "1) Write a Python program to check if the given number is a Disarium Number?"
   ]
  },
  {
   "cell_type": "code",
   "execution_count": 1,
   "metadata": {},
   "outputs": [],
   "source": [
    "#disarium number: index_po,total\n",
    "def disarium():\n",
    "    total=0\n",
    "    number=int(input(\"Enter the number...\"))\n",
    "    org_num=number\n",
    "    length=len(str(number))\n",
    "    #print(length)\n",
    "    index=length\n",
    "    #print(index)\n",
    "    while(index>=1):    \n",
    "        rem=number%10\n",
    "        #print(\"remainder\",rem)\n",
    "        total=total+rem**index\n",
    "        #print(\"total {} index {}\".format(total,index))\n",
    "        number=number//10\n",
    "        index=index-1\n",
    "    if (total==org_num):\n",
    "        print(\"{} is a Disarium Number\".format(org_num))\n",
    "    else:\n",
    "        print(\"{} is not a Disarium Number\".format(org_num))"
   ]
  },
  {
   "cell_type": "code",
   "execution_count": 2,
   "metadata": {},
   "outputs": [
    {
     "name": "stdout",
     "output_type": "stream",
     "text": [
      "Enter the number...175\n",
      "175 is a Disarium Number\n"
     ]
    }
   ],
   "source": [
    "disarium()"
   ]
  },
  {
   "cell_type": "code",
   "execution_count": 3,
   "metadata": {},
   "outputs": [
    {
     "name": "stdout",
     "output_type": "stream",
     "text": [
      "Enter the number...336\n",
      "336 is not a Disarium Number\n"
     ]
    }
   ],
   "source": [
    "disarium()"
   ]
  },
  {
   "cell_type": "markdown",
   "metadata": {},
   "source": [
    "2) Write a Python program to print all disarium numbers between 1 to 100?"
   ]
  },
  {
   "cell_type": "code",
   "execution_count": 4,
   "metadata": {},
   "outputs": [
    {
     "name": "stdout",
     "output_type": "stream",
     "text": [
      "1 is a Disarium Number\n",
      "2 is a Disarium Number\n",
      "3 is a Disarium Number\n",
      "4 is a Disarium Number\n",
      "5 is a Disarium Number\n",
      "6 is a Disarium Number\n",
      "7 is a Disarium Number\n",
      "8 is a Disarium Number\n",
      "9 is a Disarium Number\n",
      "89 is a Disarium Number\n"
     ]
    }
   ],
   "source": [
    "#disarium number: index_po,total\n",
    "def disarium_range(number):\n",
    "    total=0\n",
    "    #number=int(input(\"Enter the number...\"))\n",
    "    org_num=number\n",
    "    length=len(str(number))\n",
    "    #print(length)\n",
    "    index=length\n",
    "    #print(index)\n",
    "    while(index>=1):    \n",
    "        rem=number%10\n",
    "        #print(\"remainder\",rem)\n",
    "        total=total+rem**index\n",
    "        #print(\"total {} index {}\".format(total,index))\n",
    "        number=number//10\n",
    "        index=index-1\n",
    "    if (total==org_num):\n",
    "        print(\"{} is a Disarium Number\".format(org_num))\n",
    "    \"\"\"else:\n",
    "        print(\"{} is not a Disarium Number\".format(org_num))\"\"\"\n",
    "    \n",
    "for number in range(1,100):\n",
    "    disarium_range(number)"
   ]
  },
  {
   "cell_type": "markdown",
   "metadata": {},
   "source": [
    "3) Write a Python program to check if the given number is Happy Number?"
   ]
  },
  {
   "cell_type": "code",
   "execution_count": 5,
   "metadata": {},
   "outputs": [
    {
     "name": "stdout",
     "output_type": "stream",
     "text": [
      "Enter the number: 82\n",
      "82 is a Happy Number\n"
     ]
    }
   ],
   "source": [
    "number=int(input(\"Enter the number: \"))\n",
    "def happpy_num(number):\n",
    "    total=0\n",
    "    while(number>0):    \n",
    "        rem=number%10\n",
    "        total=total+(rem**2)\n",
    "        number=number//10\n",
    "    return total\n",
    "result=number\n",
    "while (result!=1 and result!=4):\n",
    "    result=happpy_num(result)\n",
    "if (result==1):\n",
    "    print(str(number)+\" is a Happy Number\")"
   ]
  },
  {
   "cell_type": "markdown",
   "metadata": {},
   "source": [
    "4) Write a Python program to print all happy numbers between 1 and 100?"
   ]
  },
  {
   "cell_type": "code",
   "execution_count": 6,
   "metadata": {},
   "outputs": [
    {
     "name": "stdout",
     "output_type": "stream",
     "text": [
      "1 is a Happy Number\n",
      "7 is a Happy Number\n",
      "10 is a Happy Number\n",
      "13 is a Happy Number\n",
      "19 is a Happy Number\n",
      "23 is a Happy Number\n",
      "28 is a Happy Number\n",
      "31 is a Happy Number\n",
      "32 is a Happy Number\n",
      "44 is a Happy Number\n",
      "49 is a Happy Number\n",
      "68 is a Happy Number\n",
      "70 is a Happy Number\n",
      "79 is a Happy Number\n",
      "82 is a Happy Number\n",
      "86 is a Happy Number\n",
      "91 is a Happy Number\n",
      "94 is a Happy Number\n",
      "97 is a Happy Number\n"
     ]
    }
   ],
   "source": [
    "for number in range(1,100):\n",
    "    def happpy_num(number):\n",
    "        total=0\n",
    "        while(number>0):    \n",
    "            rem=number%10\n",
    "            total=total+(rem**2)\n",
    "            number=number//10\n",
    "        return total\n",
    "    result=number\n",
    "    while (result!=1 and result!=4):\n",
    "        result=happpy_num(result)\n",
    "    if (result==1):\n",
    "        print(str(number)+\" is a Happy Number\")"
   ]
  },
  {
   "cell_type": "markdown",
   "metadata": {},
   "source": [
    "5) Write a Python program to determine whether the given number is a Harshad Number?\n"
   ]
  },
  {
   "cell_type": "code",
   "execution_count": 7,
   "metadata": {},
   "outputs": [
    {
     "name": "stdout",
     "output_type": "stream",
     "text": [
      "Enter the number: 12\n"
     ]
    }
   ],
   "source": [
    "number=int(input(\"Enter the number: \"))\n",
    "def harshad_num(number):\n",
    "    length_num=len(str(number))\n",
    "    total=0\n",
    "    original_num=number\n",
    "    #print(length_num)\n",
    "    while(length_num>=1):\n",
    "        rem=number%10\n",
    "        #print(\"rem: \",rem)\n",
    "        total+=rem\n",
    "        #print(\"total:\",total)\n",
    "        number=number//10\n",
    "        length_num=length_num-1\n",
    "    if(original_num%total==0):\n",
    "        print(str(original_num)+\" is a Harshad Number\")\n",
    "    else:\n",
    "        print(str(original_num)+\" is not a Harshad Number\")"
   ]
  },
  {
   "cell_type": "code",
   "execution_count": 8,
   "metadata": {},
   "outputs": [
    {
     "name": "stdout",
     "output_type": "stream",
     "text": [
      "12 is a Harshad Number\n"
     ]
    }
   ],
   "source": [
    "harshad_num(number)"
   ]
  },
  {
   "cell_type": "code",
   "execution_count": 9,
   "metadata": {},
   "outputs": [
    {
     "name": "stdout",
     "output_type": "stream",
     "text": [
      "120 is a Harshad Number\n"
     ]
    }
   ],
   "source": [
    "harshad_num(number=120)"
   ]
  },
  {
   "cell_type": "markdown",
   "metadata": {},
   "source": [
    "6) Write a Python program to print all pronic numbers between 1 and 100?\n"
   ]
  },
  {
   "cell_type": "code",
   "execution_count": 10,
   "metadata": {},
   "outputs": [
    {
     "name": "stdout",
     "output_type": "stream",
     "text": [
      "2 is pronic. Consecutive numbers are 1,2\n",
      "6 is pronic. Consecutive numbers are 2,3\n",
      "12 is pronic. Consecutive numbers are 3,4\n",
      "20 is pronic. Consecutive numbers are 4,5\n",
      "30 is pronic. Consecutive numbers are 5,6\n",
      "42 is pronic. Consecutive numbers are 6,7\n",
      "56 is pronic. Consecutive numbers are 7,8\n",
      "72 is pronic. Consecutive numbers are 8,9\n",
      "90 is pronic. Consecutive numbers are 9,10\n"
     ]
    }
   ],
   "source": [
    "#def pronic_numbers():\n",
    "for number in range(1,100):    \n",
    "    for i in range(0,number):\n",
    "        for j in range(1,i+1):\n",
    "            if number==(i*(j+1)):\n",
    "                if(i<j+1):\n",
    "                    print(\"{} is pronic. Consecutive numbers are {},{}\".format(number,i,(j+1)))"
   ]
  },
  {
   "cell_type": "code",
   "execution_count": null,
   "metadata": {},
   "outputs": [],
   "source": []
  }
 ],
 "metadata": {
  "kernelspec": {
   "display_name": "Python 3",
   "language": "python",
   "name": "python3"
  },
  "language_info": {
   "codemirror_mode": {
    "name": "ipython",
    "version": 3
   },
   "file_extension": ".py",
   "mimetype": "text/x-python",
   "name": "python",
   "nbconvert_exporter": "python",
   "pygments_lexer": "ipython3",
   "version": "3.8.3"
  }
 },
 "nbformat": 4,
 "nbformat_minor": 4
}
