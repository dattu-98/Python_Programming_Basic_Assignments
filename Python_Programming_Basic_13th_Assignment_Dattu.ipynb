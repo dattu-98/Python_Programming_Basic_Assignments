{
 "cells": [
  {
   "cell_type": "markdown",
   "metadata": {},
   "source": [
    "1) \n",
    "    Write a program that calculates and prints the value according to the given formula:\n",
    "    Q = Square root of [(2 * C * D)/H]\n",
    "    Following are the fixed values of C and H:\n",
    "    C is 50. H is 30.\n",
    "    D is the variable whose values should be input to your program in a comma-separated sequence.\n",
    "    Example\n",
    "    Let us assume the following comma separated input sequence is given to the program:\n",
    "    100,150,180\n",
    "    The output of the program should be:\n",
    "    18,22,24\n",
    "\n",
    "\n",
    "\n"
   ]
  },
  {
   "cell_type": "code",
   "execution_count": 1,
   "metadata": {},
   "outputs": [],
   "source": [
    "import math\n",
    "def cal():\n",
    "    \"\"\"D is provided by the user\"\"\"\n",
    "    C,H=50,30\n",
    "    D=[int(x) for x in input(\"Enter the values\\n\").split(',')]\n",
    "    print(D)\n",
    "    for i in range(len(D)):    \n",
    "        Q=math.sqrt((2*C*D[i])/H)\n",
    "        print(int(Q))"
   ]
  },
  {
   "cell_type": "code",
   "execution_count": 2,
   "metadata": {},
   "outputs": [
    {
     "name": "stdout",
     "output_type": "stream",
     "text": [
      "Enter the values\n",
      "100,150,180\n",
      "[100, 150, 180]\n",
      "18\n",
      "22\n",
      "24\n"
     ]
    }
   ],
   "source": [
    "cal()"
   ]
  },
  {
   "cell_type": "markdown",
   "metadata": {},
   "source": [
    "2) Write a program which takes 2 digits, X,Y as input and generates a 2-dimensional array. The element value in the i-th row and j-th column of the array should be i*j.\n",
    "Note: i=0,1.., X-1; j=0,1,¡Y-1.\n",
    "Example\n",
    "Suppose the following inputs are given to the program:\n",
    "3,5\n",
    "Then, the output of the program should be:\n",
    "[[0, 0, 0, 0, 0], [0, 1, 2, 3, 4], [0, 2, 4, 6, 8]] \n",
    "\n",
    "\n",
    "\n",
    "\n",
    "\n",
    "\n"
   ]
  },
  {
   "cell_type": "code",
   "execution_count": 18,
   "metadata": {},
   "outputs": [],
   "source": [
    "def array_2D():\n",
    "    row_no,col_no=(int(input(\"Enter the no.of Rows: \")),int(input(\"Enter the no.of Columns: \")))\n",
    "    #array generation through list comprehension\n",
    "    multi_list = [[0 for col in range(col_no)] for row in range(row_no)]\n",
    "    for i in range(0,row_no):\n",
    "        for j in range(0,col_no):\n",
    "            multi_list[i][j]=i*j\n",
    "    print(multi_list)       "
   ]
  },
  {
   "cell_type": "code",
   "execution_count": 19,
   "metadata": {},
   "outputs": [
    {
     "name": "stdout",
     "output_type": "stream",
     "text": [
      "Enter the no.of Rows: 3\n",
      "Enter the no.of Columns: 5\n",
      "[[0, 0, 0, 0, 0], [0, 1, 2, 3, 4], [0, 2, 4, 6, 8]]\n"
     ]
    }
   ],
   "source": [
    "array_2D()"
   ]
  },
  {
   "cell_type": "markdown",
   "metadata": {},
   "source": [
    "3) \n",
    "Write a program that accepts a comma separated sequence of words as input and prints the words in a comma-separated sequence after sorting them alphabetically.\n",
    "Suppose the following input is supplied to the program:\n",
    "without,hello,bag,world\n",
    "Then, the output should be:\n",
    "bag,hello,without,world\n",
    "\n"
   ]
  },
  {
   "cell_type": "code",
   "execution_count": 5,
   "metadata": {},
   "outputs": [],
   "source": [
    "def sort_values():\n",
    "    values=input(\"Enter the CSV: \")\n",
    "    delim=\" \"\n",
    "    words=[word for word in values.split(',')]\n",
    "    sorted_strr=delim.join(sorted(list(set(words))))\n",
    "    print(str(sorted_strr))\n"
   ]
  },
  {
   "cell_type": "code",
   "execution_count": 6,
   "metadata": {},
   "outputs": [
    {
     "name": "stdout",
     "output_type": "stream",
     "text": [
      "Enter the CSV: without,hello,bag,world\n",
      "bag hello without world\n"
     ]
    }
   ],
   "source": [
    "sort_values()"
   ]
  },
  {
   "cell_type": "markdown",
   "metadata": {},
   "source": [
    "4) \n",
    "Write a program that accepts a sequence of whitespace separated words as input and prints the words after removing all duplicate words and sorting them alphanumerically.\n",
    "Suppose the following input is supplied to the program:\n",
    "hello world and practice makes perfect and hello world again\n",
    "Then, the output should be:\n",
    "again and hello makes perfect practice world\n",
    "\n"
   ]
  },
  {
   "cell_type": "code",
   "execution_count": 7,
   "metadata": {},
   "outputs": [],
   "source": [
    "#remove duplicates\n",
    "#white spaces seperated words\n",
    "#sorting\n",
    "def sort_words():\n",
    "    words_str=input(\"Enter the sentence: \")\n",
    "    al_words=[word for word in words_str.split(\" \")]\n",
    "    sorted_sen=sorted(set(al_words))\n",
    "    for i in sorted_sen:\n",
    "        print(i,end=' ')"
   ]
  },
  {
   "cell_type": "code",
   "execution_count": 8,
   "metadata": {},
   "outputs": [
    {
     "name": "stdout",
     "output_type": "stream",
     "text": [
      "Enter the sentence:  hello world and practice makes perfect and hello world again\n",
      " again and hello makes perfect practice world "
     ]
    }
   ],
   "source": [
    "sort_words()"
   ]
  },
  {
   "cell_type": "markdown",
   "metadata": {},
   "source": [
    "5) \n",
    "Write a program that accepts a sentence and calculate the number of letters and digits.\n",
    "Suppose the following input is supplied to the program:\n",
    "hello world! 123\n",
    "Then, the output should be:\n",
    "LETTERS 10\n",
    "DIGITS 3\n"
   ]
  },
  {
   "cell_type": "code",
   "execution_count": 9,
   "metadata": {},
   "outputs": [
    {
     "name": "stdout",
     "output_type": "stream",
     "text": [
      "LETTERS:  10\n",
      "DIGITS:  3\n"
     ]
    }
   ],
   "source": [
    "typeof_str_count=\"hello world! 123\"\n",
    "count_alp=0\n",
    "count_num=0\n",
    "for i in typeof_str_count:\n",
    "    if (i.isalpha()):\n",
    "        count_alp+=1\n",
    "    elif(i.isnumeric()):\n",
    "        count_num+=1\n",
    "print(\"LETTERS: \",count_alp)\n",
    "print(\"DIGITS: \",count_num)"
   ]
  },
  {
   "cell_type": "markdown",
   "metadata": {},
   "source": [
    "6) \n",
    "A website requires the users to input username and password to register. Write a program to check the validity of password input by users.\n",
    "Following are the criteria for checking the password:\n",
    "1. At least 1 letter between [a-z]\n",
    "2. At least 1 number between [0-9]\n",
    "3. At least 1 letter between [A-Z]\n",
    "4. At least 1 character from [$#@]\n",
    "5. Minimum length of transaction password: 6\n",
    "6. Maximum length of transaction password: 12\n",
    "\n",
    "Your program should accept a sequence of comma separated passwords and will check them according to the above criteria. Passwords that match the criteria are to be printed, each separated by a comma.\n",
    "Example\n",
    "If the following passwords are given as input to the program:\n",
    "ABd1234@1,a F1#,2w3E*,2We3345\n",
    "\n",
    "Then, the output of the program should be:\n",
    "ABd1234@1\n",
    "\n",
    "                              \n",
    "\n",
    "\n",
    "\n",
    "\n"
   ]
  },
  {
   "cell_type": "code",
   "execution_count": 12,
   "metadata": {},
   "outputs": [],
   "source": [
    "import re\n",
    "data=['ABd1234@1','a F1#','2w3E*','2We3345']\n",
    "def password_check(data):\n",
    "    for password in data:\n",
    "        check=0\n",
    "        #print(password)\n",
    "        while True:\n",
    "            if(len(password)<6 or len(password)>12):\n",
    "                check=-1\n",
    "                break;\n",
    "            elif not re.search(\"[a-z]\",password):\n",
    "                check=-1\n",
    "                break\n",
    "            elif not re.search(\"[A-Z]\",password):\n",
    "                check=-1\n",
    "                break\n",
    "            elif not re.search(\"[0-9]\",password):\n",
    "                check=-1\n",
    "                break\n",
    "            elif not re.search(\"[#@#]\",password):\n",
    "                check=-1\n",
    "                break\n",
    "            elif (check==0):\n",
    "                print(password)\n",
    "                break    \n",
    "            else:\n",
    "                check=0\n",
    "                print(\"Valid Password\")\n",
    "                break"
   ]
  },
  {
   "cell_type": "code",
   "execution_count": 13,
   "metadata": {},
   "outputs": [
    {
     "name": "stdout",
     "output_type": "stream",
     "text": [
      "ABd1234@1\n"
     ]
    }
   ],
   "source": [
    "password_check(data)"
   ]
  },
  {
   "cell_type": "code",
   "execution_count": null,
   "metadata": {},
   "outputs": [],
   "source": []
  }
 ],
 "metadata": {
  "kernelspec": {
   "display_name": "Python 3",
   "language": "python",
   "name": "python3"
  },
  "language_info": {
   "codemirror_mode": {
    "name": "ipython",
    "version": 3
   },
   "file_extension": ".py",
   "mimetype": "text/x-python",
   "name": "python",
   "nbconvert_exporter": "python",
   "pygments_lexer": "ipython3",
   "version": "3.8.3"
  }
 },
 "nbformat": 4,
 "nbformat_minor": 4
}
