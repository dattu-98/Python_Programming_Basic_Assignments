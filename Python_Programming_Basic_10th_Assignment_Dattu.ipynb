{
 "cells": [
  {
   "cell_type": "markdown",
   "metadata": {},
   "source": [
    "1) Write a Python program to find sum of elements in list?\n"
   ]
  },
  {
   "cell_type": "code",
   "execution_count": 3,
   "metadata": {},
   "outputs": [],
   "source": [
    "def sum_list():\n",
    "    print(\"Enter the number of elements in the list\")\n",
    "    num_of_elements=int(input())\n",
    "    i=0\n",
    "    sum=0\n",
    "    l=[]\n",
    "    for i in range(0,num_of_elements):\n",
    "        num=int(input('-->'))\n",
    "        l.append(num)\n",
    "    print(l)\n",
    "    lengthh=len(l)\n",
    "    while lengthh>0:\n",
    "        i=0\n",
    "        for i in range(lengthh):\n",
    "            sum=sum+l[i]\n",
    "            lengthh-=1\n",
    "    print(\"The sum of the elements in the list is\",sum)"
   ]
  },
  {
   "cell_type": "code",
   "execution_count": 4,
   "metadata": {},
   "outputs": [
    {
     "name": "stdout",
     "output_type": "stream",
     "text": [
      "Enter the number of elements in the list\n",
      "5\n",
      "-->1\n",
      "-->2\n",
      "-->3\n",
      "-->4\n",
      "-->5\n",
      "[1, 2, 3, 4, 5]\n",
      "The sum of the elements in the list is 15\n"
     ]
    }
   ],
   "source": [
    "sum_list()"
   ]
  },
  {
   "cell_type": "code",
   "execution_count": 5,
   "metadata": {},
   "outputs": [
    {
     "name": "stdout",
     "output_type": "stream",
     "text": [
      "50\n"
     ]
    }
   ],
   "source": [
    "num_list=[5,10,15,20]\n",
    "sum=0\n",
    "for i in range(0,len(num_list)):\n",
    "    sum=sum+num_list[i]\n",
    "print(sum)"
   ]
  },
  {
   "cell_type": "markdown",
   "metadata": {},
   "source": [
    "2) Write a Python program to  Multiply all numbers in the list?\n"
   ]
  },
  {
   "cell_type": "code",
   "execution_count": 6,
   "metadata": {},
   "outputs": [
    {
     "name": "stdout",
     "output_type": "stream",
     "text": [
      "15000\n"
     ]
    }
   ],
   "source": [
    "num_list=[5,10,15,20]\n",
    "multiplication=1\n",
    "for i in range(0,len(num_list)):\n",
    "    multiplication=multiplication*num_list[i]\n",
    "print(multiplication)"
   ]
  },
  {
   "cell_type": "markdown",
   "metadata": {},
   "source": [
    "3)Write a Python program to find smallest number in a list?"
   ]
  },
  {
   "cell_type": "code",
   "execution_count": 7,
   "metadata": {},
   "outputs": [],
   "source": [
    "numbers=[5,10,15,20,-15,-10,35,-100,-77,-1568,56,888,5687]\n",
    "numbers.sort()"
   ]
  },
  {
   "cell_type": "code",
   "execution_count": 8,
   "metadata": {},
   "outputs": [
    {
     "data": {
      "text/plain": [
       "-1568"
      ]
     },
     "execution_count": 8,
     "metadata": {},
     "output_type": "execute_result"
    }
   ],
   "source": [
    "numbers[0]"
   ]
  },
  {
   "cell_type": "code",
   "execution_count": 9,
   "metadata": {},
   "outputs": [
    {
     "name": "stdout",
     "output_type": "stream",
     "text": [
      "-1568\n"
     ]
    }
   ],
   "source": [
    "print(min(numbers))"
   ]
  },
  {
   "cell_type": "markdown",
   "metadata": {},
   "source": [
    "4)Write a Python program to find largest number in a list?\n"
   ]
  },
  {
   "cell_type": "code",
   "execution_count": 10,
   "metadata": {},
   "outputs": [],
   "source": [
    "numbers=[5,10,15,20,-15,-10,35,-100,-77,-1568,56,888,5687]\n",
    "numbers.sort()"
   ]
  },
  {
   "cell_type": "code",
   "execution_count": 11,
   "metadata": {},
   "outputs": [
    {
     "name": "stdout",
     "output_type": "stream",
     "text": [
      "5687\n"
     ]
    }
   ],
   "source": [
    "print(max(numbers))"
   ]
  },
  {
   "cell_type": "code",
   "execution_count": 12,
   "metadata": {},
   "outputs": [
    {
     "data": {
      "text/plain": [
       "5687"
      ]
     },
     "execution_count": 12,
     "metadata": {},
     "output_type": "execute_result"
    }
   ],
   "source": [
    "numbers[-1]"
   ]
  },
  {
   "cell_type": "markdown",
   "metadata": {},
   "source": [
    "5)Write a Python program to find second largest number in a list?"
   ]
  },
  {
   "cell_type": "code",
   "execution_count": 13,
   "metadata": {},
   "outputs": [],
   "source": [
    "numbers=[5,10,15,20,-15,-10,35,-100,-77,-1568,56,888,5687]\n",
    "numbers.sort()"
   ]
  },
  {
   "cell_type": "code",
   "execution_count": 14,
   "metadata": {},
   "outputs": [
    {
     "data": {
      "text/plain": [
       "888"
      ]
     },
     "execution_count": 14,
     "metadata": {},
     "output_type": "execute_result"
    }
   ],
   "source": [
    "numbers[-2]"
   ]
  },
  {
   "cell_type": "markdown",
   "metadata": {},
   "source": [
    "6)Write a Python program to find N largest elements from a list?\n"
   ]
  },
  {
   "cell_type": "code",
   "execution_count": 1,
   "metadata": {},
   "outputs": [
    {
     "name": "stdout",
     "output_type": "stream",
     "text": [
      "-->3\n"
     ]
    },
    {
     "data": {
      "text/plain": [
       "[10, 15, 20]"
      ]
     },
     "execution_count": 1,
     "metadata": {},
     "output_type": "execute_result"
    }
   ],
   "source": [
    "num_list=[5,10,15,20,-15]\n",
    "num_list.sort()\n",
    "N=int(input(\"-->\"))\n",
    "num_list[-N:]"
   ]
  },
  {
   "cell_type": "markdown",
   "metadata": {},
   "source": [
    "7) Write a Python program to print even numbers in a list?\n"
   ]
  },
  {
   "cell_type": "code",
   "execution_count": 4,
   "metadata": {},
   "outputs": [
    {
     "name": "stdout",
     "output_type": "stream",
     "text": [
      "[10, 20, 16, 18, 356]\n"
     ]
    }
   ],
   "source": [
    "num_list=[5,10,15,20,-15,16,18,19,356,845]\n",
    "num_list_even=[]\n",
    "for i in range(len(num_list)):\n",
    "    if num_list[i]%2==0:\n",
    "        num_list_even.append(num_list[i])\n",
    "print(num_list_even)"
   ]
  },
  {
   "cell_type": "markdown",
   "metadata": {},
   "source": [
    "8) Write a Python program to print odd numbers in a List?\n"
   ]
  },
  {
   "cell_type": "code",
   "execution_count": 5,
   "metadata": {},
   "outputs": [
    {
     "name": "stdout",
     "output_type": "stream",
     "text": [
      "[5, 15, -15, 19, 845]\n"
     ]
    }
   ],
   "source": [
    "num_list=[5,10,15,20,-15,16,18,19,356,845]\n",
    "num_list_odd=[]\n",
    "for i in range(len(num_list)):\n",
    "    if num_list[i]%2!=0:\n",
    "        num_list_odd.append(num_list[i])\n",
    "print(num_list_odd)"
   ]
  },
  {
   "cell_type": "markdown",
   "metadata": {},
   "source": [
    "9) Write a Python program to Remove empty List from List?\n"
   ]
  },
  {
   "cell_type": "code",
   "execution_count": 7,
   "metadata": {},
   "outputs": [
    {
     "name": "stdout",
     "output_type": "stream",
     "text": [
      "[5, 10, 15, 20, -15, 16, 18, 19, 356, 845, 'asd', 'agbcveer']\n"
     ]
    }
   ],
   "source": [
    "random_list=[5,10,15,20,-15,16,18,19,356,845,[],'asd',[],'agbcveer',[]]\n",
    "filtered= list(filter(None,random_list))\n",
    "print(filtered)"
   ]
  },
  {
   "cell_type": "markdown",
   "metadata": {},
   "source": [
    "10) Write a Python program to Cloning or Copying a list?\n"
   ]
  },
  {
   "cell_type": "code",
   "execution_count": 8,
   "metadata": {},
   "outputs": [
    {
     "data": {
      "text/plain": [
       "[5, 10, 15, 20, -15, 16, 18, 19, 356, 845, [], [], []]"
      ]
     },
     "execution_count": 8,
     "metadata": {},
     "output_type": "execute_result"
    }
   ],
   "source": [
    "def cloning():\n",
    "    random_list=[5,10,15,20,-15,16,18,19,356,845,[],[],[]]\n",
    "    list_copy=random_list\n",
    "    return(list_copy)\n",
    "cloning()"
   ]
  },
  {
   "cell_type": "code",
   "execution_count": 9,
   "metadata": {},
   "outputs": [
    {
     "data": {
      "text/plain": [
       "[5, 10, 15, 20, -15, 16, 18, 19, 356, 845, [], [], []]"
      ]
     },
     "execution_count": 9,
     "metadata": {},
     "output_type": "execute_result"
    }
   ],
   "source": [
    "def cloning2():\n",
    "    random_list=[5,10,15,20,-15,16,18,19,356,845,[],[],[]]\n",
    "    list_copied=[]\n",
    "    list_copied.extend(random_list)\n",
    "    return list_copied\n",
    "cloning2()"
   ]
  },
  {
   "cell_type": "markdown",
   "metadata": {},
   "source": [
    "11) Write a Python program to Count occurrences of an element in a list?\n"
   ]
  },
  {
   "cell_type": "code",
   "execution_count": 10,
   "metadata": {},
   "outputs": [
    {
     "name": "stdout",
     "output_type": "stream",
     "text": [
      "Enter the number 16\n",
      "16 ---> 3 times\n"
     ]
    }
   ],
   "source": [
    "random_list=[5,10,15,20,-15,16,16,18,19,356,845,16,99,99,99]\n",
    "num=int(input(\"Enter the number \"))\n",
    "def countt(random_list,num):\n",
    "    return random_list.count(num)\n",
    "print(\"{} ---> {} times\".format(num,countt(random_list,num)))"
   ]
  },
  {
   "cell_type": "code",
   "execution_count": null,
   "metadata": {},
   "outputs": [],
   "source": []
  }
 ],
 "metadata": {
  "kernelspec": {
   "display_name": "Python 3",
   "language": "python",
   "name": "python3"
  },
  "language_info": {
   "codemirror_mode": {
    "name": "ipython",
    "version": 3
   },
   "file_extension": ".py",
   "mimetype": "text/x-python",
   "name": "python",
   "nbconvert_exporter": "python",
   "pygments_lexer": "ipython3",
   "version": "3.8.3"
  }
 },
 "nbformat": 4,
 "nbformat_minor": 4
}
