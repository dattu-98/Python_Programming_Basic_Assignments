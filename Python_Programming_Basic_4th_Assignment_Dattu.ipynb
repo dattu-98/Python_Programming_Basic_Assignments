{
 "cells": [
  {
   "cell_type": "markdown",
   "metadata": {},
   "source": [
    "1) Write a Python Program to Find the Factorial of a Number? "
   ]
  },
  {
   "cell_type": "code",
   "execution_count": 8,
   "metadata": {},
   "outputs": [],
   "source": [
    "def fact(num):\n",
    "    num=int(input(\"Enter the number...\"))\n",
    "    if num==0:\n",
    "        print(\"The factorial of number {} is 1\".format(num))\n",
    "    else:\n",
    "        factorial=1\n",
    "        for i in range(num,0,-1):\n",
    "            factorial=factorial*i\n",
    "        print(\"The factorial of number {} is {}\".format(num,factorial))"
   ]
  },
  {
   "cell_type": "code",
   "execution_count": 12,
   "metadata": {},
   "outputs": [
    {
     "name": "stdout",
     "output_type": "stream",
     "text": [
      "Enter the number...5\n",
      "The factorial of number 5 is 120\n"
     ]
    }
   ],
   "source": [
    "fact(num)"
   ]
  },
  {
   "cell_type": "markdown",
   "metadata": {},
   "source": [
    "2) Write a Python Program to Display the multiplication Table?"
   ]
  },
  {
   "cell_type": "code",
   "execution_count": 13,
   "metadata": {},
   "outputs": [
    {
     "name": "stdout",
     "output_type": "stream",
     "text": [
      "Enter the multipilication table you want...9\n",
      "9 * 1 =9 \n",
      "9 * 2 =18 \n",
      "9 * 3 =27 \n",
      "9 * 4 =36 \n",
      "9 * 5 =45 \n",
      "9 * 6 =54 \n",
      "9 * 7 =63 \n",
      "9 * 8 =72 \n",
      "9 * 9 =81 \n",
      "9 * 10 =90 \n",
      "9 * 11 =99 \n",
      "9 * 12 =108 \n",
      "9 * 13 =117 \n",
      "9 * 14 =126 \n",
      "9 * 15 =135 \n",
      "9 * 16 =144 \n",
      "9 * 17 =153 \n",
      "9 * 18 =162 \n",
      "9 * 19 =171 \n",
      "9 * 20 =180 \n"
     ]
    }
   ],
   "source": [
    "mul_num=int(input(\"Enter the multipilication table you want...\"))\n",
    "for i in range(1,21):\n",
    "    print(\"{} * {} ={} \".format(mul_num,i,i*mul_num))"
   ]
  },
  {
   "cell_type": "markdown",
   "metadata": {},
   "source": [
    "3) Write a Python Program to Print the Fibonacci sequence?"
   ]
  },
  {
   "cell_type": "code",
   "execution_count": 14,
   "metadata": {},
   "outputs": [
    {
     "name": "stdout",
     "output_type": "stream",
     "text": [
      "Enter the limit of Fibonacci series15\n",
      "0_1_1_2_3_5_8_13_21_34_55_89_144_233_377_"
     ]
    }
   ],
   "source": [
    "fib_num_lim=int(input(\"Enter the limit of Fibonacci series\"))\n",
    "i,j=0,1\n",
    "count=0\n",
    "while count<fib_num_lim:\n",
    "    print(i,end=\"_\")\n",
    "    k=i+j\n",
    "    i=j\n",
    "    j=k\n",
    "    count+=1"
   ]
  },
  {
   "cell_type": "markdown",
   "metadata": {},
   "source": [
    "4) Write a Python Program to Check Armstrong Number?"
   ]
  },
  {
   "cell_type": "code",
   "execution_count": 19,
   "metadata": {},
   "outputs": [
    {
     "name": "stdout",
     "output_type": "stream",
     "text": [
      "Enter the number...407\n",
      "407 is an Armstrong number\n"
     ]
    }
   ],
   "source": [
    "armstrong_num = int(input(\"Enter the number...\"))\n",
    "order = len(str(armstrong_num))\n",
    "armstrong_sum = 0\n",
    "rem = armstrong_num\n",
    "while rem > 0:\n",
    "    quo = rem % 10\n",
    "    armstrong_sum = armstrong_sum+ quo ** order\n",
    "    rem = rem // 10\n",
    "if armstrong_num == armstrong_sum:\n",
    "    print(armstrong_num,\"is an Armstrong number\")\n",
    "else:\n",
    "    print(armstrong_num,\"is not an Armstrong number\")"
   ]
  },
  {
   "cell_type": "markdown",
   "metadata": {},
   "source": [
    "5) Write a Python Program to Find Armstrong Number in an Interval?"
   ]
  },
  {
   "cell_type": "code",
   "execution_count": 20,
   "metadata": {},
   "outputs": [
    {
     "name": "stdout",
     "output_type": "stream",
     "text": [
      "Enter the starting range...0\n",
      "Enter the ending range...500\n",
      "0 is an Armstrong number\n",
      "1 is an Armstrong number\n",
      "2 is an Armstrong number\n",
      "3 is an Armstrong number\n",
      "4 is an Armstrong number\n",
      "5 is an Armstrong number\n",
      "6 is an Armstrong number\n",
      "7 is an Armstrong number\n",
      "8 is an Armstrong number\n",
      "9 is an Armstrong number\n",
      "153 is an Armstrong number\n",
      "370 is an Armstrong number\n",
      "371 is an Armstrong number\n",
      "407 is an Armstrong number\n"
     ]
    }
   ],
   "source": [
    "a=int(input(\"Enter the starting range...\"))\n",
    "b=int(input(\"Enter the ending range...\"))\n",
    "for armstrong_num in range(a,b):    \n",
    "    order = len(str(armstrong_num))\n",
    "    armstrong_sum = 0\n",
    "    rem = armstrong_num\n",
    "    while rem > 0:\n",
    "        quo = rem % 10\n",
    "        armstrong_sum = armstrong_sum+ quo ** order\n",
    "        rem = rem // 10\n",
    "    if armstrong_num == armstrong_sum:\n",
    "        print(armstrong_num,\"is an Armstrong number\")"
   ]
  },
  {
   "cell_type": "markdown",
   "metadata": {},
   "source": [
    "6) Write a Python Program to Find the Sum of Natural Numbers?"
   ]
  },
  {
   "cell_type": "code",
   "execution_count": 21,
   "metadata": {},
   "outputs": [
    {
     "name": "stdout",
     "output_type": "stream",
     "text": [
      "Enter the limit of sum of natural numbers10\n",
      "The sum of first 10 natural numbers is 55.0\n"
     ]
    }
   ],
   "source": [
    "n=int(input(\"Enter the limit of sum of natural numbers\"))\n",
    "value=(n*(n+1)/2)\n",
    "print(\"The sum of first {} natural numbers is {}\".format(n,value))"
   ]
  },
  {
   "cell_type": "code",
   "execution_count": null,
   "metadata": {},
   "outputs": [],
   "source": []
  }
 ],
 "metadata": {
  "kernelspec": {
   "display_name": "Python 3",
   "language": "python",
   "name": "python3"
  },
  "language_info": {
   "codemirror_mode": {
    "name": "ipython",
    "version": 3
   },
   "file_extension": ".py",
   "mimetype": "text/x-python",
   "name": "python",
   "nbconvert_exporter": "python",
   "pygments_lexer": "ipython3",
   "version": "3.8.3"
  }
 },
 "nbformat": 4,
 "nbformat_minor": 4
}
