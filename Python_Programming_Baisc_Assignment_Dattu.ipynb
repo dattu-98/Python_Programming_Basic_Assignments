{
 "cells": [
  {
   "cell_type": "code",
   "execution_count": 1,
   "metadata": {},
   "outputs": [
    {
     "name": "stdout",
     "output_type": "stream",
     "text": [
      "Hello Python\n"
     ]
    }
   ],
   "source": [
    "print(\"Hello Python\")"
   ]
  },
  {
   "cell_type": "code",
   "execution_count": 2,
   "metadata": {},
   "outputs": [
    {
     "name": "stdout",
     "output_type": "stream",
     "text": [
      "The values of addition is 12 and division is 5.0\n"
     ]
    }
   ],
   "source": [
    "a,b=10,2\n",
    "add=a+b\n",
    "div=a/b\n",
    "print(\"The values of addition is {} and division is {}\" .format(add,div))"
   ]
  },
  {
   "cell_type": "code",
   "execution_count": 3,
   "metadata": {},
   "outputs": [
    {
     "name": "stdout",
     "output_type": "stream",
     "text": [
      "Enter the base of triangle...15\n",
      "Enter the height of triangle...25\n",
      "The area of triangle is 187.5\n"
     ]
    }
   ],
   "source": [
    "#Area of Triangle\n",
    "base=int(input(\"Enter the base of triangle...\"))\n",
    "height=int(input(\"Enter the height of triangle...\"))\n",
    "area=(0.5*(base*height))\n",
    "print(\"The area of triangle is\",area)"
   ]
  },
  {
   "cell_type": "code",
   "execution_count": 5,
   "metadata": {},
   "outputs": [
    {
     "name": "stdout",
     "output_type": "stream",
     "text": [
      "Enter the value of D.....5\n",
      "Enter the value of E.....7\n",
      "The values of D & E before swapping are 5 7 \n",
      "The values of D & E after swapping are 7 5 \n"
     ]
    }
   ],
   "source": [
    "D=int(input(\"Enter the value of D.....\"))\n",
    "E=int(input(\"Enter the value of E.....\"))\n",
    "print(\"The values of D & E before swapping are {} {} \".format(D,E))\n",
    "swap=D\n",
    "D=E\n",
    "E=swap\n",
    "print(\"The values of D & E after swapping are {} {} \".format(D,E))"
   ]
  },
  {
   "cell_type": "code",
   "execution_count": 6,
   "metadata": {},
   "outputs": [
    {
     "name": "stdout",
     "output_type": "stream",
     "text": [
      "70\n"
     ]
    }
   ],
   "source": [
    "import random\n",
    "print(random.randint(0,100))"
   ]
  },
  {
   "cell_type": "code",
   "execution_count": null,
   "metadata": {},
   "outputs": [],
   "source": []
  }
 ],
 "metadata": {
  "kernelspec": {
   "display_name": "Python 3",
   "language": "python",
   "name": "python3"
  },
  "language_info": {
   "codemirror_mode": {
    "name": "ipython",
    "version": 3
   },
   "file_extension": ".py",
   "mimetype": "text/x-python",
   "name": "python",
   "nbconvert_exporter": "python",
   "pygments_lexer": "ipython3",
   "version": "3.8.3"
  }
 },
 "nbformat": 4,
 "nbformat_minor": 4
}
