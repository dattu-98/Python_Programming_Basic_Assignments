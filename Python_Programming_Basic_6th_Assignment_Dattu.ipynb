{
 "cells": [
  {
   "cell_type": "markdown",
   "metadata": {},
   "source": [
    "1) Write a Python Program to Display Fibonacci Sequence Using Recursion?\n"
   ]
  },
  {
   "cell_type": "code",
   "execution_count": 1,
   "metadata": {},
   "outputs": [
    {
     "name": "stdout",
     "output_type": "stream",
     "text": [
      "Enter the range to be displayed: 10\n",
      "0 1 1 3 5 7 9 11 13 15 "
     ]
    }
   ],
   "source": [
    "Fib_limit=int(input(\"Enter the range to be displayed: \"))\n",
    "def Fib_Num_series(Num):\n",
    "    if Num==0:\n",
    "        return 0\n",
    "    elif Num==1:\n",
    "        return 1\n",
    "    else:\n",
    "        return ((Num-2)+(Num-1))\n",
    "for i in range(0,Fib_limit):\n",
    "    print(Fib_Num_series(i),end=' ')"
   ]
  },
  {
   "cell_type": "markdown",
   "metadata": {},
   "source": [
    "2) Write a Python Program to Find Factorial of Number Using Recursion?\n"
   ]
  },
  {
   "cell_type": "code",
   "execution_count": 1,
   "metadata": {},
   "outputs": [
    {
     "name": "stdout",
     "output_type": "stream",
     "text": [
      "Enter the number: 6\n",
      "The factorial of number 6 is 720\n"
     ]
    }
   ],
   "source": [
    "n=int(input(\"Enter the number: \"))\n",
    "def Fact(n):\n",
    "    if n==1 or n==0:\n",
    "        return 1\n",
    "    else:\n",
    "        return n*Fact(n-1)\n",
    "if n<0:\n",
    "    print(\"No factorial exists for negative numbers\")\n",
    "else:\n",
    "    print(\"The factorial of number {} is {}\".format(n,Fact(n)))"
   ]
  },
  {
   "cell_type": "markdown",
   "metadata": {},
   "source": [
    "3) Write a Python Program to calculate your Body Mass Index?\n"
   ]
  },
  {
   "cell_type": "code",
   "execution_count": 2,
   "metadata": {},
   "outputs": [
    {
     "name": "stdout",
     "output_type": "stream",
     "text": [
      "Enter your height in cms: 177\n",
      "Enter your weight in kgs: 75.2\n",
      "You are healthy and your body is in Normal range\n"
     ]
    }
   ],
   "source": [
    "height=float(input(\"Enter your height in cms: \"))\n",
    "weight=float(input(\"Enter your weight in kgs: \"))\n",
    "height_mts=height/100\n",
    "BMI=(weight/(height_mts**2))\n",
    "if BMI<=18.4:\n",
    "    print(\"You are under weight\")\n",
    "elif BMI<=24.9:\n",
    "    print(\"You are healthy and your body is in Normal range\")\n",
    "elif BMI<=29.9:\n",
    "    print(\"You are under weight\")\n",
    "elif BMI<=34.9:\n",
    "    print(\"You are under weight\")\n",
    "elif BMI<=39.9:\n",
    "    print(\"You are under weight\")\n",
    "else:\n",
    "    print(\"You are under weight\")"
   ]
  },
  {
   "cell_type": "markdown",
   "metadata": {},
   "source": [
    "4) Write a Python Program to calculate the natural logarithm of any number?\n"
   ]
  },
  {
   "cell_type": "code",
   "execution_count": 3,
   "metadata": {},
   "outputs": [
    {
     "name": "stdout",
     "output_type": "stream",
     "text": [
      "Enter the number to which you would like to find Natual Log: 10\n",
      "2.302585092994046\n"
     ]
    }
   ],
   "source": [
    "import math\n",
    "number=float(input(\"Enter the number to which you would like to find Natual Log: \"))\n",
    "try:\n",
    "    print(math.log(number))\n",
    "except Exception as E:\n",
    "    print(\"There is an error: \",E)"
   ]
  },
  {
   "cell_type": "markdown",
   "metadata": {},
   "source": [
    "5) Write a Python Program for cube sum of first n natural numbers?\n"
   ]
  },
  {
   "cell_type": "code",
   "execution_count": 4,
   "metadata": {},
   "outputs": [
    {
     "name": "stdout",
     "output_type": "stream",
     "text": [
      "Enter the limit for sum of cube of first 'n' natural numbers: 5\n",
      "225\n"
     ]
    }
   ],
   "source": [
    "limit=int(input(\"Enter the limit for sum of cube of first 'n' natural numbers: \"))\n",
    "sum_cube=0\n",
    "def sum_cub(n):\n",
    "    return n**3\n",
    "for i in range(1,limit+1):\n",
    "    sum_cube=sum_cube+sum_cub(i)\n",
    "print (sum_cube)"
   ]
  }
 ],
 "metadata": {
  "kernelspec": {
   "display_name": "Python 3",
   "language": "python",
   "name": "python3"
  },
  "language_info": {
   "codemirror_mode": {
    "name": "ipython",
    "version": 3
   },
   "file_extension": ".py",
   "mimetype": "text/x-python",
   "name": "python",
   "nbconvert_exporter": "python",
   "pygments_lexer": "ipython3",
   "version": "3.8.3"
  }
 },
 "nbformat": 4,
 "nbformat_minor": 4
}
