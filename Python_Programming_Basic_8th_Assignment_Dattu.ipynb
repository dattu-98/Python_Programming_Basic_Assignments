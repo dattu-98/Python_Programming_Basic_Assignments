{
 "cells": [
  {
   "cell_type": "markdown",
   "metadata": {},
   "source": [
    "1) Write a Python Program to Add Two Matrices?"
   ]
  },
  {
   "cell_type": "code",
   "execution_count": 1,
   "metadata": {},
   "outputs": [],
   "source": [
    "import numpy as np"
   ]
  },
  {
   "cell_type": "code",
   "execution_count": 9,
   "metadata": {},
   "outputs": [],
   "source": [
    "c=np.array([[1,3,6,7],[2,3,5,7]])\n",
    "d=np.array([[0,5,1,9],[12,1,7,2]])"
   ]
  },
  {
   "cell_type": "code",
   "execution_count": 10,
   "metadata": {},
   "outputs": [],
   "source": [
    "f=c+d"
   ]
  },
  {
   "cell_type": "code",
   "execution_count": 11,
   "metadata": {},
   "outputs": [
    {
     "name": "stdout",
     "output_type": "stream",
     "text": [
      "[[ 1  8  7 16]\n",
      " [14  4 12  9]]\n"
     ]
    }
   ],
   "source": [
    "print(f)"
   ]
  },
  {
   "cell_type": "markdown",
   "metadata": {},
   "source": [
    "2) Write a Python Program to Multiply Two Matrices?"
   ]
  },
  {
   "cell_type": "code",
   "execution_count": 26,
   "metadata": {},
   "outputs": [],
   "source": [
    "a=np.array([[2,1],[1,0]])\n",
    "b=np.array([[1,0],[0,1]])\n",
    "def mul_mat():\n",
    "    mul_matrix=a.dot(b)\n",
    "    print(mul_matrix)"
   ]
  },
  {
   "cell_type": "code",
   "execution_count": 27,
   "metadata": {},
   "outputs": [
    {
     "name": "stdout",
     "output_type": "stream",
     "text": [
      "[[2 1]\n",
      " [1 0]]\n"
     ]
    }
   ],
   "source": [
    "mul_mat()"
   ]
  },
  {
   "cell_type": "markdown",
   "metadata": {},
   "source": [
    "3) Write a Python Program to Transpose a Matrix?\n"
   ]
  },
  {
   "cell_type": "code",
   "execution_count": 29,
   "metadata": {},
   "outputs": [],
   "source": [
    "c=np.array([[1,3,6,7],[2,3,5,7]])"
   ]
  },
  {
   "cell_type": "code",
   "execution_count": 30,
   "metadata": {},
   "outputs": [],
   "source": [
    "def tran_matrix():\n",
    "    transpose_mat=c.transpose()\n",
    "    print(transpose_mat)"
   ]
  },
  {
   "cell_type": "code",
   "execution_count": 32,
   "metadata": {},
   "outputs": [
    {
     "name": "stdout",
     "output_type": "stream",
     "text": [
      "[[1 2]\n",
      " [3 3]\n",
      " [6 5]\n",
      " [7 7]]\n"
     ]
    }
   ],
   "source": [
    "tran_matrix()"
   ]
  },
  {
   "cell_type": "markdown",
   "metadata": {},
   "source": [
    "4) Write a Python Program to Sort Words in Alphabetic Order?\n"
   ]
  },
  {
   "cell_type": "code",
   "execution_count": 35,
   "metadata": {},
   "outputs": [],
   "source": [
    "def sort_words():\n",
    "    sentence=str(input(\"Enter the sentence\"))\n",
    "    words=sentence.split()\n",
    "    #print(words)\n",
    "    words.sort()\n",
    "    for word in words:\n",
    "        print(word)"
   ]
  },
  {
   "cell_type": "code",
   "execution_count": 36,
   "metadata": {},
   "outputs": [
    {
     "name": "stdout",
     "output_type": "stream",
     "text": [
      "Enter the sentenceI am Dattatreya Thunuguntla. Currently pursuing my M.Tech at NIT Jaipur & parallelly doing the FSDS course offered by iNeuron\n",
      "&\n",
      "Currently\n",
      "Dattatreya\n",
      "FSDS\n",
      "I\n",
      "Jaipur\n",
      "M.Tech\n",
      "NIT\n",
      "Thunuguntla.\n",
      "am\n",
      "at\n",
      "by\n",
      "course\n",
      "doing\n",
      "iNeuron\n",
      "my\n",
      "offered\n",
      "parallelly\n",
      "pursuing\n",
      "the\n"
     ]
    }
   ],
   "source": [
    "sort_words()"
   ]
  },
  {
   "cell_type": "markdown",
   "metadata": {},
   "source": [
    "5) Write a Python Program to Remove Punctuation From a String?\n"
   ]
  },
  {
   "cell_type": "code",
   "execution_count": 39,
   "metadata": {},
   "outputs": [],
   "source": [
    "def remove_punc():\n",
    "    punctuations=\"!'\"'#$%&\"'\"()*+,-./:;?@[\\]^_`{|}~\"\n",
    "    sen=input(\"Enter the expression: \")\n",
    "    modi_sen=\"\"\n",
    "    for char in sen:\n",
    "        if char not in punctuations:\n",
    "            modi_sen=modi_sen+char\n",
    "    print(modi_sen)"
   ]
  },
  {
   "cell_type": "code",
   "execution_count": 40,
   "metadata": {},
   "outputs": [
    {
     "name": "stdout",
     "output_type": "stream",
     "text": [
      "Enter the expression: Hello Buddy!!! Where are you going?\n",
      "Hello Buddy Where are you going\n"
     ]
    }
   ],
   "source": [
    "remove_punc()"
   ]
  },
  {
   "cell_type": "code",
   "execution_count": null,
   "metadata": {},
   "outputs": [],
   "source": []
  }
 ],
 "metadata": {
  "kernelspec": {
   "display_name": "Python 3",
   "language": "python",
   "name": "python3"
  },
  "language_info": {
   "codemirror_mode": {
    "name": "ipython",
    "version": 3
   },
   "file_extension": ".py",
   "mimetype": "text/x-python",
   "name": "python",
   "nbconvert_exporter": "python",
   "pygments_lexer": "ipython3",
   "version": "3.8.3"
  }
 },
 "nbformat": 4,
 "nbformat_minor": 4
}
