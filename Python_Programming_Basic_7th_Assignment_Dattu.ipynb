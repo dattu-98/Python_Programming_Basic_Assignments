{
 "cells": [
  {
   "cell_type": "markdown",
   "metadata": {},
   "source": [
    "1) Write a Python Program to find sum of array?"
   ]
  },
  {
   "cell_type": "code",
   "execution_count": 2,
   "metadata": {},
   "outputs": [
    {
     "name": "stdout",
     "output_type": "stream",
     "text": [
      "2 4 6 \n",
      "\n",
      "The Sum of the array is:  12\n"
     ]
    }
   ],
   "source": [
    "import array\n",
    "a=array.array('i',[2,4,6])\n",
    "#printing of elements\n",
    "for i in range(len(a)):\n",
    "    print(a[i],end=\" \")\n",
    "#sum of the array\n",
    "print('\\n')\n",
    "total_arr=0\n",
    "for ele in a:\n",
    "    total_arr+=ele\n",
    "print(\"The Sum of the array is: \",total_arr)\n"
   ]
  },
  {
   "cell_type": "markdown",
   "metadata": {},
   "source": [
    "2) Write a Python Program to find largest element in an array?\n"
   ]
  },
  {
   "cell_type": "code",
   "execution_count": 3,
   "metadata": {},
   "outputs": [
    {
     "name": "stdout",
     "output_type": "stream",
     "text": [
      "The largest element in the array:  18\n"
     ]
    }
   ],
   "source": [
    "import array\n",
    "a=array.array('i',[2,4,6,10,5,18])\n",
    "max_ele=a[0]\n",
    "for i in range(len(a)):\n",
    "    if (a[i]>max_ele):\n",
    "        max_ele=a[i]\n",
    "print(\"The largest element in the array: \",max_ele)"
   ]
  },
  {
   "cell_type": "markdown",
   "metadata": {},
   "source": [
    "3) Write a Python Program for array rotation?"
   ]
  },
  {
   "cell_type": "code",
   "execution_count": 5,
   "metadata": {},
   "outputs": [
    {
     "name": "stdout",
     "output_type": "stream",
     "text": [
      "array('i', [10, 5, 18, 2, 4, 6])\n"
     ]
    }
   ],
   "source": [
    "a=array.array('i',[2,4,6,10,5,18])\n",
    "rotations = 3\n",
    "ab = a[rotations:]+a[:rotations]\n",
    "print(ab)"
   ]
  },
  {
   "cell_type": "code",
   "execution_count": 7,
   "metadata": {},
   "outputs": [
    {
     "name": "stdout",
     "output_type": "stream",
     "text": [
      "10\n",
      "5\n",
      "18\n",
      "2\n",
      "4\n",
      "6\n"
     ]
    }
   ],
   "source": [
    "for ele in ab:\n",
    "    print(ele)"
   ]
  },
  {
   "cell_type": "markdown",
   "metadata": {},
   "source": [
    "4) Write a Python Program to Split the array and add the first part to the end?\n"
   ]
  },
  {
   "cell_type": "code",
   "execution_count": 8,
   "metadata": {},
   "outputs": [],
   "source": [
    "def arr_split(a,n,sp_index):\n",
    "    for i in range(0,sp_index):\n",
    "        x=a[0]\n",
    "        for j in range(0,n-1):\n",
    "            a[j]=a[j+1]\n",
    "        a[n-1]=x"
   ]
  },
  {
   "cell_type": "code",
   "execution_count": 15,
   "metadata": {},
   "outputs": [
    {
     "name": "stdout",
     "output_type": "stream",
     "text": [
      "2 4 6 10 5 18 "
     ]
    }
   ],
   "source": [
    "a=array.array('i',[2,4,6,10,5,18])\n",
    "n=len(a)\n",
    "sp_index=3\n",
    "for i in range(len(a)):\n",
    "    print(a[i],end=\" \")\n",
    "arr_split(a,n,sp_index)"
   ]
  },
  {
   "cell_type": "code",
   "execution_count": 16,
   "metadata": {},
   "outputs": [
    {
     "name": "stdout",
     "output_type": "stream",
     "text": [
      "10 5 18 2 4 6 "
     ]
    }
   ],
   "source": [
    "for ele in a:\n",
    "    print(ele,end=\" \")"
   ]
  },
  {
   "cell_type": "markdown",
   "metadata": {},
   "source": [
    "5) Write a Python Program to check if given array is Monotonic?\n"
   ]
  },
  {
   "cell_type": "code",
   "execution_count": 19,
   "metadata": {},
   "outputs": [
    {
     "data": {
      "text/plain": [
       "True"
      ]
     },
     "execution_count": 19,
     "metadata": {},
     "output_type": "execute_result"
    }
   ],
   "source": [
    "#An array is said to be monotonic in nature if it is either continuously increasing or continuously decreasing.\n",
    "def monotonic(a):\n",
    "    return (all(a[i]<=a[i+1] for i in range(len(a)-1)) or all(a[i]>=a[i+1] for i in range(len(a)-1)))\n",
    "a=array.array('i',[6,5,4,4])\n",
    "monotonic(a)"
   ]
  },
  {
   "cell_type": "code",
   "execution_count": null,
   "metadata": {},
   "outputs": [],
   "source": []
  }
 ],
 "metadata": {
  "kernelspec": {
   "display_name": "Python 3",
   "language": "python",
   "name": "python3"
  },
  "language_info": {
   "codemirror_mode": {
    "name": "ipython",
    "version": 3
   },
   "file_extension": ".py",
   "mimetype": "text/x-python",
   "name": "python",
   "nbconvert_exporter": "python",
   "pygments_lexer": "ipython3",
   "version": "3.8.3"
  }
 },
 "nbformat": 4,
 "nbformat_minor": 4
}
