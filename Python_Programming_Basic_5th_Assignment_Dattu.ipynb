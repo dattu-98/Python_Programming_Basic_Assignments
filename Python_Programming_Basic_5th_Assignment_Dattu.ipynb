{
 "cells": [
  {
   "cell_type": "markdown",
   "metadata": {},
   "source": [
    "1) Write a Python Program to Find LCM?\n"
   ]
  },
  {
   "cell_type": "code",
   "execution_count": 3,
   "metadata": {},
   "outputs": [
    {
     "name": "stdout",
     "output_type": "stream",
     "text": [
      "Enter the first number...12\n",
      "Enter the second number...48\n",
      "The LCM of 12,48=48\n"
     ]
    }
   ],
   "source": [
    "num1=int(input(\"Enter the first number...\"))\n",
    "num2=int(input(\"Enter the second number...\"))\n",
    "maximum=max(num1,num2)\n",
    "while(True):\n",
    "    if(maximum%num1==0 and maximum%num2==0):\n",
    "        break\n",
    "    maximum+=1\n",
    "print(f\"The LCM of {num1},{num2}={maximum}\")"
   ]
  },
  {
   "cell_type": "markdown",
   "metadata": {},
   "source": [
    "2) Write a Python Program to Find HCF?\n"
   ]
  },
  {
   "cell_type": "code",
   "execution_count": 4,
   "metadata": {},
   "outputs": [
    {
     "name": "stdout",
     "output_type": "stream",
     "text": [
      "Enter the first number...7\n",
      "Enter the second number...14\n",
      "The HCF of numbers 7 14 is 7\n"
     ]
    }
   ],
   "source": [
    "num1=int(input(\"Enter the first number...\"))\n",
    "num2=int(input(\"Enter the second number...\"))\n",
    "if num1>num2:\n",
    "    min_num=num2\n",
    "else:\n",
    "    min_num=num1\n",
    "for i in range(1,min_num+1):\n",
    "    if (num1%i==0 and num2%i==0):\n",
    "        hcf=i\n",
    "print(\"The HCF of numbers {} {} is {}\".format(num1,num2,hcf))"
   ]
  },
  {
   "cell_type": "markdown",
   "metadata": {},
   "source": [
    "3) Write a Python Program to Convert Decimal to Binary, Octal and Hexadecimal?\n"
   ]
  },
  {
   "cell_type": "code",
   "execution_count": 1,
   "metadata": {},
   "outputs": [
    {
     "name": "stdout",
     "output_type": "stream",
     "text": [
      "Enter the number...5\n",
      "The Binary value of 5 is 0b101\n",
      "The Octal value of 5 is 0o5\n",
      "The hexadecimal value of 5 is 0x5\n"
     ]
    }
   ],
   "source": [
    "num=int(input(\"Enter the number...\"))\n",
    "print(\"The Binary value of {} is {}\".format(num,bin(num)))\n",
    "print(\"The Octal value of {} is {}\".format(num,oct(num)))\n",
    "print(\"The hexadecimal value of {} is {}\".format(num,hex(num)))"
   ]
  },
  {
   "cell_type": "markdown",
   "metadata": {},
   "source": [
    "4) Write a Python Program To Find ASCII value of a character?"
   ]
  },
  {
   "cell_type": "code",
   "execution_count": 2,
   "metadata": {},
   "outputs": [
    {
     "name": "stdout",
     "output_type": "stream",
     "text": [
      "Want to get ASCII Value?...1\n",
      "49\n"
     ]
    }
   ],
   "source": [
    "a=(input(\"Want to get ASCII Value?...\"))\n",
    "print(ord(a))"
   ]
  },
  {
   "cell_type": "markdown",
   "metadata": {},
   "source": [
    "5) Write a Python Program to Make a Simple Calculator with 4 basic mathematical operations?\n"
   ]
  },
  {
   "cell_type": "code",
   "execution_count": 3,
   "metadata": {},
   "outputs": [
    {
     "name": "stdout",
     "output_type": "stream",
     "text": [
      "1) Addition\n",
      "2) Multipilication\n",
      "3) Subtraction\n",
      "4) Division \n",
      "What operation would you like to perform? Enter the number4\n",
      "Enter 1st Number 45\n",
      "Enter 2nd Number 9\n",
      "The division of 45, 9 is 5.0\n"
     ]
    }
   ],
   "source": [
    "print(\"1) Addition\\n2) Multipilication\\n3) Subtraction\\n4) Division \")\n",
    "choice=int(input(\"What operation would you like to perform? Enter the number\"))\n",
    "def add(a,b):\n",
    "    addition=a+b\n",
    "    print(\"The addition of {} & {} is {}\".format(a,b,addition))\n",
    "    \n",
    "def multiplication(g,h):\n",
    "    multiply=g*h\n",
    "    print(\"The addition of {} & {} is {}\".format(g,h,multiply))\n",
    "    \n",
    "def subtraction(c,d):\n",
    "    diff=c-d\n",
    "    print(\"The difference of {}, {} is {}\".format(c,d,diff))\n",
    "    \n",
    "def division(e,f):\n",
    "    div=e/f\n",
    "    print(\"The division of {}, {} is {}\".format(e,f,div))\n",
    "    \n",
    "if choice==1:\n",
    "    add(a=int(input(\"Enter 1st Number \")),b=int(input(\"Enter 2nd Number \")))\n",
    "if choice==2:\n",
    "    multiplication(g=int(input(\"Enter 1st Number \")),h=int(input(\"Enter 2nd Number \")))\n",
    "if choice==3:\n",
    "    subtraction(c=int(input(\"Enter 1st Number \")),d=int(input(\"Enter 2nd Number \")))\n",
    "if choice==4:\n",
    "    division(e=int(input(\"Enter 1st Number \")),f=int(input(\"Enter 2nd Number \")))"
   ]
  },
  {
   "cell_type": "code",
   "execution_count": null,
   "metadata": {},
   "outputs": [],
   "source": []
  }
 ],
 "metadata": {
  "kernelspec": {
   "display_name": "Python 3",
   "language": "python",
   "name": "python3"
  },
  "language_info": {
   "codemirror_mode": {
    "name": "ipython",
    "version": 3
   },
   "file_extension": ".py",
   "mimetype": "text/x-python",
   "name": "python",
   "nbconvert_exporter": "python",
   "pygments_lexer": "ipython3",
   "version": "3.8.3"
  }
 },
 "nbformat": 4,
 "nbformat_minor": 4
}
