{
 "cells": [
  {
   "cell_type": "markdown",
   "metadata": {},
   "source": [
    "1) Define a class with a generator which can iterate the numbers, which are divisible by 7, between a given range 0 and n.\n"
   ]
  },
  {
   "cell_type": "code",
   "execution_count": 1,
   "metadata": {},
   "outputs": [
    {
     "name": "stdout",
     "output_type": "stream",
     "text": [
      "Enter the last number: 71\n"
     ]
    }
   ],
   "source": [
    "n=int(input(\"Enter the last number: \"))\n",
    "class divis_7:\n",
    "    def __init__(self,n):\n",
    "        super(divis_7,self).__init__()\n",
    "        self.n=n\n",
    "    def div_7(self):\n",
    "        for num in range(1,self.n):\n",
    "            if num%7==0:\n",
    "                yield num"
   ]
  },
  {
   "cell_type": "code",
   "execution_count": 3,
   "metadata": {},
   "outputs": [
    {
     "name": "stdout",
     "output_type": "stream",
     "text": [
      "7\n",
      "14\n",
      "21\n",
      "28\n",
      "35\n",
      "42\n",
      "49\n",
      "56\n",
      "63\n",
      "70\n"
     ]
    }
   ],
   "source": [
    "for num in divis_7(71).div_7():\n",
    "    print(num)"
   ]
  },
  {
   "cell_type": "markdown",
   "metadata": {},
   "source": [
    "2) Write a program to compute the frequency of the words from the input. The output should output after sorting the key alphanumerically. \n",
    "Suppose the following input is supplied to the program:\n",
    "New to Python or choosing between Python 2 and Python 3? Read Python 2 or Python 3.\n",
    "Then, the output should be:\n",
    "2:2\n",
    "3.:1\n",
    "3?:1\n",
    "New:1\n",
    "Python:5\n",
    "Read:1\n",
    "and:1\n",
    "between:1\n",
    "choosing:1\n",
    "or:2\n",
    "to:1\n"
   ]
  },
  {
   "cell_type": "code",
   "execution_count": 4,
   "metadata": {},
   "outputs": [
    {
     "name": "stdout",
     "output_type": "stream",
     "text": [
      "<class 'dict'>\n",
      "2: 2\n",
      "3: 1\n",
      "3?: 1\n",
      "New: 1\n",
      "Python: 5\n",
      "Read: 1\n",
      "and: 1\n",
      "between: 1\n",
      "choosing: 1\n",
      "or: 2\n",
      "to: 1\n"
     ]
    }
   ],
   "source": [
    "string=\"New to Python or choosing between Python 2 and Python 3? Read Python 2 or Python 3\"\n",
    "word_dict={}\n",
    "print(type(word_dict))\n",
    "for word in string.split():\n",
    "    word_dict[word]=word_dict.get(word,0)+1\n",
    "for key in sorted(word_dict):\n",
    "    print(\"{}: {}\".format(key,word_dict[key]))"
   ]
  },
  {
   "cell_type": "markdown",
   "metadata": {},
   "source": [
    "3) Define a class Person and its two child classes: Male and Female. All classes have a method \"getGender\" which can print \"Male\" for Male class and \"Female\" for Female class.\n"
   ]
  },
  {
   "cell_type": "code",
   "execution_count": 5,
   "metadata": {},
   "outputs": [],
   "source": [
    "class Person:\n",
    "    class Male:\n",
    "        def getGender():\n",
    "            return 'Male'\n",
    "    class Female:\n",
    "        def getGender():\n",
    "            return 'Female'"
   ]
  },
  {
   "cell_type": "code",
   "execution_count": 6,
   "metadata": {},
   "outputs": [
    {
     "data": {
      "text/plain": [
       "'Male'"
      ]
     },
     "execution_count": 6,
     "metadata": {},
     "output_type": "execute_result"
    }
   ],
   "source": [
    "Person.Male.getGender()"
   ]
  },
  {
   "cell_type": "code",
   "execution_count": 7,
   "metadata": {},
   "outputs": [
    {
     "data": {
      "text/plain": [
       "'Female'"
      ]
     },
     "execution_count": 7,
     "metadata": {},
     "output_type": "execute_result"
    }
   ],
   "source": [
    "Person.Female.getGender()"
   ]
  },
  {
   "cell_type": "markdown",
   "metadata": {},
   "source": [
    "4) Please write a program to generate all sentences where subject is in [\"I\", \"You\"] and verb is in [\"Play\", \"Love\"] and the object is in [\"Hockey\",\"Football\"].\n"
   ]
  },
  {
   "cell_type": "code",
   "execution_count": 9,
   "metadata": {},
   "outputs": [
    {
     "name": "stdout",
     "output_type": "stream",
     "text": [
      "I play Hockey\n",
      "You love Football\n"
     ]
    }
   ],
   "source": [
    "subject=['I','You']\n",
    "verb=['play','love']\n",
    "object=['Hockey','Football']\n",
    "sentence=[]\n",
    "for i in range(0,(len(subject))):\n",
    "    print(subject[i]+' '+verb[i]+' '+object[i])"
   ]
  },
  {
   "cell_type": "markdown",
   "metadata": {},
   "source": [
    "5) Please write a program to compress and decompress the string \"hello world!hello world!hello world!hello world!\"."
   ]
  },
  {
   "cell_type": "code",
   "execution_count": 14,
   "metadata": {},
   "outputs": [
    {
     "name": "stdout",
     "output_type": "stream",
     "text": [
      "Original size of sting=  81\n",
      "compressed string=  56\n",
      "Decompressed string size= 81\n"
     ]
    }
   ],
   "source": [
    "#Zlib libraty has functions to compress the string\n",
    "import sys\n",
    "import zlib\n",
    "senten=b\"\"\"hello world!hello world!hello world!hello world!\"\"\"\n",
    "print(\"Original size of sting= \",sys.getsizeof(senten))\n",
    "comp_senten=zlib.compress(senten)\n",
    "print(\"compressed string= \",sys.getsizeof(comp_senten))\n",
    "decomp_senten=zlib.decompress(comp_senten)\n",
    "print(\"Decompressed string size=\",sys.getsizeof(decomp_senten))"
   ]
  },
  {
   "cell_type": "markdown",
   "metadata": {},
   "source": [
    "6) Please write a binary search function which searches an item in a sorted list. The function should return the index of element to be searched in the list."
   ]
  },
  {
   "cell_type": "code",
   "execution_count": 15,
   "metadata": {},
   "outputs": [
    {
     "name": "stdout",
     "output_type": "stream",
     "text": [
      "[1, 2, 3, 4, 5, 6, 10]\n",
      "Element is at 5\n"
     ]
    }
   ],
   "source": [
    "numbers=[1,2,3,5,6,4,10]\n",
    "numbers_sort=sorted(numbers)\n",
    "print(numbers_sort)\n",
    "num=6\n",
    "def bin_sea(numbers_sort,num):\n",
    "    low=0\n",
    "    mid=0\n",
    "    high=len(numbers_sort)-1\n",
    "    while low<=high:\n",
    "        mid=(high+low)//2\n",
    "        if numbers_sort[mid]<num:\n",
    "            low=mid+1\n",
    "        elif numbers_sort[mid]>num:\n",
    "            high=mid-1\n",
    "        else:\n",
    "            return mid\n",
    "    return -1\n",
    "result=bin_sea(numbers_sort,num)\n",
    "if result!=-1:\n",
    "    print(\"Element is at\",str(result))\n",
    "else:\n",
    "    print(\"Element is not present\")"
   ]
  },
  {
   "cell_type": "code",
   "execution_count": null,
   "metadata": {},
   "outputs": [],
   "source": []
  }
 ],
 "metadata": {
  "kernelspec": {
   "display_name": "Python 3",
   "language": "python",
   "name": "python3"
  },
  "language_info": {
   "codemirror_mode": {
    "name": "ipython",
    "version": 3
   },
   "file_extension": ".py",
   "mimetype": "text/x-python",
   "name": "python",
   "nbconvert_exporter": "python",
   "pygments_lexer": "ipython3",
   "version": "3.8.3"
  }
 },
 "nbformat": 4,
 "nbformat_minor": 4
}
